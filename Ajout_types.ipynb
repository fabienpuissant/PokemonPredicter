{
 "cells": [
  {
   "cell_type": "code",
   "execution_count": 2,
   "metadata": {},
   "outputs": [],
   "source": [
    "#Imports\n",
    "import csv"
   ]
  },
  {
   "cell_type": "code",
   "execution_count": 16,
   "metadata": {},
   "outputs": [],
   "source": [
    "file_data = open('data.csv', 'r+') #14 éléments par pokemon chemin + 3*4(RGBA) couleurs  + taille en pixels colorés\n",
    "file_pokemon = open('pokemon.csv', 'r')\n",
    "\n",
    "reader_data = csv.reader(file_data,delimiter=',')\n",
    "reader_pokemon = csv.reader(file_pokemon,delimiter=',')\n",
    "\n",
    "liste_data =  []\n",
    "liste_pokemon = []\n",
    "\n",
    "for row in reader_data:\n",
    "    liste_data.append(row)\n",
    "\n",
    "for row in reader_pokemon:\n",
    "    liste_pokemon.append(row)"
   ]
  },
  {
   "cell_type": "code",
   "execution_count": 4,
   "metadata": {},
   "outputs": [],
   "source": [
    "def trouver_nom(chemin):\n",
    "    dans_nom = False\n",
    "    nom = \"\"\n",
    "    for c in chemin:\n",
    "        if dans_nom:\n",
    "            if c == '.':\n",
    "                dans_nom = False\n",
    "            else:\n",
    "                nom += c\n",
    "        elif c == '\\\\':\n",
    "            dans_nom = True\n",
    "    return nom"
   ]
  },
  {
   "cell_type": "code",
   "execution_count": 14,
   "metadata": {},
   "outputs": [
    {
     "name": "stdout",
     "output_type": "stream",
     "text": [
      "pokemon-images/images\\abomasnow.png\n",
      "['pokemon-images/images\\\\abomasnow.png', '244.63973063973063', '246.986531986532', '248.87542087542087', '0.5768875761491601', '110.19680851063829', '147.0159574468085', '142.39361702127664', '0.378438249953849', '184.22222222222223', '187.94444444444446', '187.94444444444446', '0.04467417389699095', '5423', 'Grass', 'Ice', 'Grass', 'Ice', 'Grass', 'Ice', 'Grass', 'Ice', 'Grass', 'Ice', 'Grass', 'Ice', 'Grass', 'Ice', 'Grass', 'Ice']\n",
      "pokemon-images/images\\abra.png\n",
      "['pokemon-images/images\\\\abomasnow.png', '244.63973063973063', '246.986531986532', '248.87542087542087', '0.5768875761491601', '110.19680851063829', '147.0159574468085', '142.39361702127664', '0.378438249953849', '184.22222222222223', '187.94444444444446', '187.94444444444446', '0.04467417389699095', '5423', 'Grass', 'Ice', 'Grass', 'Ice', 'Grass', 'Ice', 'Grass', 'Ice', 'Grass', 'Ice', 'Grass', 'Ice', 'Grass', 'Ice', 'Grass', 'Ice']\n",
      "pokemon-images/images\\absol.png\n",
      "['pokemon-images/images\\\\abomasnow.png', '244.63973063973063', '246.986531986532', '248.87542087542087', '0.5768875761491601', '110.19680851063829', '147.0159574468085', '142.39361702127664', '0.378438249953849', '184.22222222222223', '187.94444444444446', '187.94444444444446', '0.04467417389699095', '5423', 'Grass', 'Ice', 'Grass', 'Ice', 'Grass', 'Ice', 'Grass', 'Ice', 'Grass', 'Ice', 'Grass', 'Ice', 'Grass', 'Ice', 'Grass', 'Ice']\n",
      "pokemon-images/images\\accelgor.png\n",
      "['pokemon-images/images\\\\abomasnow.png', '244.63973063973063', '246.986531986532', '248.87542087542087', '0.5768875761491601', '110.19680851063829', '147.0159574468085', '142.39361702127664', '0.378438249953849', '184.22222222222223', '187.94444444444446', '187.94444444444446', '0.04467417389699095', '5423', 'Grass', 'Ice', 'Grass', 'Ice', 'Grass', 'Ice', 'Grass', 'Ice', 'Grass', 'Ice', 'Grass', 'Ice', 'Grass', 'Ice', 'Grass', 'Ice']\n"
     ]
    }
   ],
   "source": [
    "for i in range(len(liste_data)):\n",
    "    if i > 3:\n",
    "        break\n",
    "    print(liste_data[i][0])\n",
    "    nom = trouver_nom(liste_data[i][0])\n",
    "    j = 0\n",
    "    while nom != liste_pokemon[j][0]:\n",
    "        j+=1\n",
    "    for k in range(1,len(liste_pokemon[j])):\n",
    "        liste_data[i].append(liste_pokemon[j][k])\n",
    "    \n",
    "    print(liste_data[0])"
   ]
  },
  {
   "cell_type": "code",
   "execution_count": 33,
   "metadata": {},
   "outputs": [
    {
     "name": "stdout",
     "output_type": "stream",
     "text": [
      "abra: Psychic et  \n"
     ]
    }
   ],
   "source": [
    "pokemon_path = \"pokemon-images/images/abra.png\"\n",
    "pokemonName = pokemon_path[22:-4]\n",
    "\n",
    "for pokemon in liste_pokemon:\n",
    "    types = []\n",
    "    if(pokemon[0] == pokemonName):\n",
    "        types = pokemon[1:]\n",
    "        if(len(types) < 2):\n",
    "            type1 = types[0]\n",
    "            type2 = \"\"\n",
    "        else:\n",
    "            type1 = types[0]\n",
    "            type2 = types[1]\n",
    "        print(pokemonName + \": \" + type1 + \" et  \" + type2)\n",
    "\n",
    "    \n",
    "    \n",
    "    \n"
   ]
  }
 ],
 "metadata": {
  "kernelspec": {
   "display_name": "Python 3",
   "language": "python",
   "name": "python3"
  },
  "language_info": {
   "codemirror_mode": {
    "name": "ipython",
    "version": 3
   },
   "file_extension": ".py",
   "mimetype": "text/x-python",
   "name": "python",
   "nbconvert_exporter": "python",
   "pygments_lexer": "ipython3",
   "version": "3.7.3"
  }
 },
 "nbformat": 4,
 "nbformat_minor": 2
}
