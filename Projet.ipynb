{
 "cells": [
  {
   "cell_type": "code",
   "execution_count": 91,
   "metadata": {},
   "outputs": [
    {
     "name": "stdout",
     "output_type": "stream",
     "text": [
      "[12533, 885, 573, 409]\n",
      "[0.4740224959828602, 0.30690948044991967, 0.21906802356722013]\n"
     ]
    },
    {
     "data": {
      "image/png": "[encoded data removed]",
      "text/plain": [
       "<Figure size 432x288 with 1 Axes>"
      ]
     },
     "metadata": {},
     "output_type": "display_data"
    }
   ],
   "source": [
    "from PIL import Image\n",
    "import numpy\n",
    "import math\n",
    "import time\n",
    "import matplotlib.pyplot as plot\n",
    "from sklearn.cluster import KMeans\n",
    "from sklearn.cluster import MiniBatchKMeans\n",
    "import glob\n",
    "from tqdm import tqdm\n",
    "\n",
    "file = \"pokemon-images/images/girafarig.png\"\n",
    "\n",
    "imgfile = Image.open(file)\n",
    "numarray = numpy.array(imgfile.getdata(), numpy.uint8)\n",
    "cluster_count = 4\n",
    "\n",
    "mclusters = MiniBatchKMeans(n_clusters = cluster_count)\n",
    "mclusters.fit(numarray.reshape(-4, 4))\n",
    "\n",
    "npbins = numpy.arange(0, cluster_count+1)\n",
    "histogram = numpy.histogram(mclusters.labels_, bins=npbins)\n",
    "labels = numpy.unique(mclusters.labels_)\n",
    "\n",
    "npbins = numpy.arange(0, cluster_count + 1)\n",
    "histogram = numpy.histogram(mclusters.labels_, bins=npbins)\n",
    "Histsorted = sorted(histogram[0] ,reverse=True)\n",
    "labels = numpy.unique(mclusters.labels_)\n",
    "\n",
    "couleurs = mclusters.cluster_centers_[1:].tolist()\n",
    "\n",
    "print(Histsorted)\n",
    "\n",
    "#Calcul des coefficients de couleur\n",
    "\n",
    "couleur_percentage = [Histsorted[i] / sum(Histsorted[1:]) for i in range(1, len(Histsorted))]\n",
    "print(couleur_percentage)\n",
    "\n",
    "fig1, ax1 = plot.subplots()\n",
    "pieColor = []\n",
    "for i in range(cluster_count-1):\n",
    "    pieColor.append('#%02x%02x%02x' % (math.ceil(couleurs[i][0]),\n",
    "        math.ceil(couleurs[i][1]), math.ceil(couleurs[i][2])))\n",
    "\n",
    "pieList = plot.pie(Histsorted[1:], colors=pieColor)\n",
    "\n",
    "  \n",
    "plot.show()\n",
    "\n"
   ]
  },
  {
   "cell_type": "code",
   "execution_count": 135,
   "metadata": {},
   "outputs": [
    {
     "name": "stdout",
     "output_type": "stream",
     "text": [
      "Pokemonchimchar\n",
      "chimchar: Fire et  \n"
     ]
    }
   ],
   "source": [
    "pokemonName = input(\"Pokemon \")\n",
    "\n",
    "for pokemon in liste_pokemon:\n",
    "    types = []\n",
    "    if(pokemon[0] == pokemonName):\n",
    "        types = pokemon[1:]\n",
    "        if(len(types) < 2):\n",
    "            type1 = types[0]\n",
    "            type2 = \"\"\n",
    "        else:\n",
    "            type1 = types[0]\n",
    "            type2 = types[1]\n",
    "        print(pokemonName + \": \" + type1 + \" et  \" + type2)"
   ]
  },
  {
   "cell_type": "code",
   "execution_count": 50,
   "metadata": {},
   "outputs": [],
   "source": [
    "file_data = open('data.csv', 'r+') #14 éléments par pokemon chemin + 3*4(RGBA) couleurs  + taille en pixels colorés\n",
    "file_pokemon = open('pokemon.csv', 'r')\n",
    "\n",
    "reader_data = csv.reader(file_data,delimiter=',')\n",
    "reader_pokemon = csv.reader(file_pokemon,delimiter=',')\n",
    "\n",
    "liste_data =  []\n",
    "liste_pokemon = []\n",
    "\n",
    "for row in reader_data:\n",
    "    liste_data.append(row)\n",
    "\n",
    "for row in reader_pokemon:\n",
    "    liste_pokemon.append(row)\n",
    "    "
   ]
  },
  {
   "cell_type": "code",
   "execution_count": 93,
   "metadata": {},
   "outputs": [
    {
     "data": {
      "application/vnd.jupyter.widget-view+json": {
       "model_id": "7ffa43c4739e475289531c6428e756e4",
       "version_major": 2,
       "version_minor": 0
      },
      "text/plain": [
       "HBox(children=(IntProgress(value=0, max=721), HTML(value='')))"
      ]
     },
     "metadata": {},
     "output_type": "display_data"
    },
    {
     "name": "stdout",
     "output_type": "stream",
     "text": [
      "done\n"
     ]
    }
   ],
   "source": [
    "from PIL import Image\n",
    "import numpy\n",
    "import math\n",
    "import time\n",
    "import matplotlib.pyplot as plot\n",
    "from sklearn.cluster import KMeans\n",
    "from sklearn.cluster import MiniBatchKMeans\n",
    "import glob\n",
    "from tqdm import tqdm_notebook as tqdm\n",
    "\n",
    "\n",
    "data = []\n",
    "images = glob.glob(\"pokemon-images/images/*png\")\n",
    "\n",
    "\n",
    "for imgName in tqdm(images):\n",
    "    imgfile = Image.open(imgName)\n",
    "    numarray = numpy.array(imgfile.getdata(), numpy.uint8)\n",
    "    cluster_count = 4\n",
    "\n",
    "    mclusters = MiniBatchKMeans(n_clusters = cluster_count)\n",
    "    mclusters.fit(numarray.reshape(-4, 4))\n",
    "\n",
    "    npbins = numpy.arange(0, cluster_count + 1)\n",
    "    histogram = numpy.histogram(mclusters.labels_, bins=npbins)\n",
    "    Histsorted = sorted(histogram[0] ,reverse=True)\n",
    "    labels = numpy.unique(mclusters.labels_)\n",
    "\n",
    "    couleurs = mclusters.cluster_centers_[1:].tolist()\n",
    "    \n",
    "    #Calcul des coefficients des couleurs \n",
    "    couleur_percentage = [Histsorted[i] / sum(Histsorted[1:]) for i in range(1, len(Histsorted))]\n",
    "\n",
    "    #Calcul de la taille\n",
    "    compteur = 0\n",
    "    for i in range(imgfile.size[0]):\n",
    "        for j in range(imgfile.size[1]):\n",
    "            if imgfile.getpixel((i,j)) == (0,0,0,0):\n",
    "                compteur += 1\n",
    "\n",
    "    compteur = imgfile.size[0]*imgfile.size[1] - compteur\n",
    "\n",
    "    imagedata = []\n",
    "    imagedata.append(couleurs[0])\n",
    "    imagedata.append(couleurs[1])\n",
    "    imagedata.append(couleurs[2])\n",
    "    imagedata.append(compteur)\n",
    "    imagedata.append(imgName)\n",
    "    imagedata.append(couleur_percentage[0])\n",
    "    imagedata.append(couleur_percentage[1])\n",
    "    imagedata.append(couleur_percentage[2])\n",
    "    \n",
    "    #Searching types\n",
    "    pokemonName = imgName[22:-4]\n",
    "    for pokemon in liste_pokemon:\n",
    "        types = []\n",
    "        if(pokemon[0] == pokemonName):\n",
    "            types = pokemon[1:]\n",
    "            if(len(types) < 2):\n",
    "                type1 = types[0]\n",
    "                type2 = \"\"\n",
    "            else:\n",
    "                type1 = types[0]\n",
    "                type2 = types[1]\n",
    "                \n",
    "    imagedata.append(type1)\n",
    "    imagedata.append(type2)\n",
    "\n",
    "\n",
    "    data.append(imagedata)\n",
    "    \n",
    "\n",
    "\n",
    "print(\"done\")\n",
    "\n",
    "\n",
    "\n"
   ]
  },
  {
   "cell_type": "code",
   "execution_count": 94,
   "metadata": {
    "scrolled": true
   },
   "outputs": [
    {
     "data": {
      "application/vnd.jupyter.widget-view+json": {
       "model_id": "61dd694720c04266ba7fa4bdce9ba9d1",
       "version_major": 2,
       "version_minor": 0
      },
      "text/plain": [
       "HBox(children=(IntProgress(value=0, max=721), HTML(value='')))"
      ]
     },
     "metadata": {},
     "output_type": "display_data"
    },
    {
     "name": "stdout",
     "output_type": "stream",
     "text": [
      "done\n"
     ]
    }
   ],
   "source": [
    "import csv\n",
    "\n",
    "\n",
    "with open('data.csv', 'w', newline='') as csvfile:\n",
    "    fieldnames = [\"Nom\", \"Couleur1.1\",\"Couleur1.2\",\"Couleur1.3\", \"Percentage1\", \"Couleur2.1\",\"Couleur2.2\",\"Couleur2.3\",\"Percentage2\", \"Couleur3.1\", \"Couleur3.2\", \"Couleur3.3\", \"Percentage3\", \"Taille\", \"Type1\", \"Type2\"]\n",
    "    writer = csv.DictWriter(csvfile, fieldnames=fieldnames)\n",
    "\n",
    "    \n",
    "    for i in tqdm(data):\n",
    "        writer.writerow({'Nom': i[4],\n",
    "                        'Couleur1.1': i[0][0], \n",
    "                         'Couleur1.2': i[0][1],\n",
    "                        'Couleur1.3' : i[0][2],\n",
    "                         'Percentage1': i[5],\n",
    "                        'Couleur2.1': i[1][0],\n",
    "                        'Couleur2.2': i[1][1],\n",
    "                        'Couleur2.3': i[1][2],\n",
    "                        'Percentage2': i[6],\n",
    "                        'Couleur3.1': i[2][0],\n",
    "                        'Couleur3.2': i[2][1],\n",
    "                        'Couleur3.3': i[2][2],\n",
    "                        'Percentage3': i[7],\n",
    "                        'Taille': i[3],\n",
    "                       'Type1': i[8],\n",
    "                       'Type2': i[9]})\n",
    "        \n",
    "print(\"done\")\n",
    "\n",
    " "
   ]
  },
  {
   "cell_type": "code",
   "execution_count": 16,
   "metadata": {},
   "outputs": [
    {
     "name": "stdout",
     "output_type": "stream",
     "text": [
      "Select your favorite Pokemon arbok\n",
      "Searching the Pokemon\n",
      "processing data\n"
     ]
    },
    {
     "data": {
      "image/png": "[encoded data removed]",
      "text/plain": [
       "<Figure size 432x288 with 1 Axes>"
      ]
     },
     "metadata": {
      "needs_background": "light"
     },
     "output_type": "display_data"
    },
    {
     "data": {
      "image/png": "[encoded data removed]",
      "text/plain": [
       "<Figure size 432x288 with 1 Axes>"
      ]
     },
     "metadata": {
      "needs_background": "light"
     },
     "output_type": "display_data"
    },
    {
     "data": {
      "image/png": "[encoded data removed]",
      "text/plain": [
       "<Figure size 432x288 with 1 Axes>"
      ]
     },
     "metadata": {
      "needs_background": "light"
     },
     "output_type": "display_data"
    },
    {
     "data": {
      "image/png": "[encoded data removed]",
      "text/plain": [
       "<Figure size 432x288 with 1 Axes>"
      ]
     },
     "metadata": {
      "needs_background": "light"
     },
     "output_type": "display_data"
    },
    {
     "data": {
      "image/png": "[encoded data removed]",
      "text/plain": [
       "<Figure size 432x288 with 1 Axes>"
      ]
     },
     "metadata": {
      "needs_background": "light"
     },
     "output_type": "display_data"
    },
    {
     "data": {
      "image/png": "[encoded data removed]",
      "text/plain": [
       "<Figure size 432x288 with 1 Axes>"
      ]
     },
     "metadata": {
      "needs_background": "light"
     },
     "output_type": "display_data"
    },
    {
     "data": {
      "image/png": "[encoded data removed]",
      "text/plain": [
       "<Figure size 432x288 with 1 Axes>"
      ]
     },
     "metadata": {
      "needs_background": "light"
     },
     "output_type": "display_data"
    }
   ],
   "source": [
    "import matplotlib.pyplot as plt\n",
    "import matplotlib.image as mpimg\n",
    "import csv\n",
    "\n",
    "from colormath.color_objects import sRGBColor, LabColor\n",
    "from colormath.color_conversions import convert_color\n",
    "from colormath.color_diff import delta_e_cie2000\n",
    "\n",
    "\n",
    "file = open('data.csv', 'r')\n",
    "\n",
    "pokemon = input(\"Select your favorite Pokemon \")\n",
    "\n",
    "pokemonFound = []\n",
    "\n",
    "\n",
    "reader = csv.reader(file, delimiter=',')\n",
    "\n",
    "print(\"Searching the Pokemon\")\n",
    "\n",
    "for row in (reader):\n",
    "    if(row[0][22:-4] == pokemon):\n",
    "        pokemondata = row\n",
    "        \n",
    "file = open('data.csv', 'r')\n",
    "\n",
    "reader = csv.reader(file, delimiter=',')\n",
    "print(\"processing data\")\n",
    "\n",
    "coeff = 0\n",
    "\n",
    "while len(pokemonFound) < 5:\n",
    "    for row in (reader):\n",
    "        #check if the pokemon is not the same\n",
    "        if(row[0][22:-4] == pokemon):\n",
    "            continue\n",
    "            \n",
    "        if(len(pokemonFound) > 5):\n",
    "            break\n",
    "\n",
    "        #Check if one type matches the pokemon\n",
    "        elif(not(row[14] == pokemondata[14] or (row[15] == pokemondata[15] and row[15] != \"\"))):\n",
    "            continue\n",
    "\n",
    "        else:\n",
    "            #Search for the same first color\n",
    "            FirstColor = sRGBColor(float(pokemondata[1]), float(pokemondata[2]), float(pokemondata[3]), is_upscaled = True)\n",
    "            iteratedColor = sRGBColor(float(row[1]), float(row[2]), float(row[3]),is_upscaled = True)\n",
    "\n",
    "            #Processing first color\n",
    "            color1_lab = convert_color(FirstColor, LabColor)\n",
    "\n",
    "            color2_lab = convert_color(iteratedColor, LabColor)\n",
    "\n",
    "            delta_e = delta_e_cie2000(color1_lab, color2_lab);\n",
    "\n",
    "            #Processing second color\n",
    "            SecondColor = sRGBColor(float(pokemondata[5]), float(pokemondata[6]), float(pokemondata[7]), is_upscaled = True)\n",
    "            iteratedColor = sRGBColor(float(row[5]), float(row[6]), float(row[7]), is_upscaled = True)\n",
    "\n",
    "            color1_lab_1 = convert_color(SecondColor, LabColor)\n",
    "\n",
    "            color2_lab_1 = convert_color(iteratedColor, LabColor)\n",
    "\n",
    "            delta_e_2 = delta_e_cie2000(color1_lab_1, color2_lab_1);\n",
    "\n",
    "\n",
    "            #Processing third color\n",
    "            ThirdColor = sRGBColor(float(pokemondata[9]), float(pokemondata[10]), float(pokemondata[11]), is_upscaled = True)\n",
    "            iteratedColor2 = sRGBColor(float(row[9]), float(row[10]), float(row[11]), is_upscaled = True)\n",
    "\n",
    "            color1_lab_2 = convert_color(ThirdColor, LabColor)\n",
    "\n",
    "            color2_lab_2 = convert_color(iteratedColor2, LabColor)\n",
    "\n",
    "            delta_e_3 = delta_e_cie2000(color1_lab_2, color2_lab_2);\n",
    "\n",
    "            coef_delta_e = coeff\n",
    "            coef_size = 5*coeff\n",
    "            coef_percent = 0.01 * coeff\n",
    "            \n",
    "            \n",
    "            if(delta_e < coef_delta_e):\n",
    "                if(abs(int(row[13]) - int(pokemondata[13])) < coef_size):\n",
    "                    if (abs(float(row[4]) - float(pokemondata[4])) < coef_percent):\n",
    "                        pokemonFound.append(row[0])\n",
    "                        coeff+=5\n",
    "                        continue\n",
    "            if (delta_e_2 < coef_delta_e):\n",
    "                if(abs(int(row[13]) - int(pokemondata[13])) < coef_size): \n",
    "                    if(abs(float(row[8]) - float(pokemondata[8])) < coef_percent):\n",
    "                        pokemonFound.append(row[0])\n",
    "                        coeff+=5\n",
    "                        continue\n",
    "            if(delta_e_3 < coef_delta_e): \n",
    "                if (abs(int(row[13]) - int(pokemondata[13])) < coef_size): \n",
    "                    if(abs(float(row[12]) - float(pokemondata[12])) < coef_percent):\n",
    "                        pokemonFound.append(row[0])\n",
    "                        coeff+=5\n",
    "                        continue\n",
    "            \n",
    "\n",
    "            coeff+=5\n",
    "           \n",
    "\n",
    "        \n",
    "plt.figure()\n",
    "plt.imshow(mpimg.imread(pokemondata[0]))\n",
    "\n",
    "        \n",
    "for i in range(len(pokemonFound)):\n",
    "    if(i<len(pokemonFound)):\n",
    "        plt.figure()\n",
    "        plt.imshow(mpimg.imread(pokemonFound[i]))\n",
    "    \n",
    "\n",
    "    "
   ]
  },
  {
   "cell_type": "code",
   "execution_count": null,
   "metadata": {},
   "outputs": [],
   "source": []
  },
  {
   "cell_type": "code",
   "execution_count": null,
   "metadata": {},
   "outputs": [],
   "source": []
  }
 ],
 "metadata": {
  "kernelspec": {
   "display_name": "Python 3",
   "language": "python",
   "name": "python3"
  },
  "language_info": {
   "codemirror_mode": {
    "name": "ipython",
    "version": 3
   },
   "file_extension": ".py",
   "mimetype": "text/x-python",
   "name": "python",
   "nbconvert_exporter": "python",
   "pygments_lexer": "ipython3",
   "version": "3.7.3"
  }
 },
 "nbformat": 4,
 "nbformat_minor": 4
}
