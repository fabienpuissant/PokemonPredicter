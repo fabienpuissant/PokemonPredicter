{
 "cells": [
  {
   "cell_type": "code",
   "execution_count": 1,
   "metadata": {},
   "outputs": [],
   "source": [
    "#Imports\n",
    "import csv"
   ]
  },
  {
   "cell_type": "code",
   "execution_count": 2,
   "metadata": {},
   "outputs": [],
   "source": [
    "file_data = open('data.csv', 'r+') #14 éléments par pokemon chemin + 3*4(RGBA) couleurs  + taille en pixels colorés\n",
    "file_pokemon = open('pokemon.csv', 'r')\n",
    "\n",
    "reader_data = csv.reader(file_data,delimiter=',')\n",
    "reader_pokemon = csv.reader(file_pokemon,delimiter=',')\n",
    "\n",
    "liste_data =  []\n",
    "liste_pokemon = []\n",
    "\n",
    "for row in reader_data:\n",
    "    liste_data.append(row)\n",
    "\n",
    "for row in reader_pokemon:\n",
    "    liste_pokemon.append(row)"
   ]
  },
  {
   "cell_type": "code",
   "execution_count": 3,
   "metadata": {},
   "outputs": [],
   "source": [
    "def trouver_nom(chemin):\n",
    "    dans_nom = False\n",
    "    nom = \"\"\n",
    "    for c in chemin:\n",
    "        if dans_nom:\n",
    "            if c == '.':\n",
    "                dans_nom = False\n",
    "            else:\n",
    "                nom += c\n",
    "        elif c == '\\\\':\n",
    "            dans_nom = True\n",
    "    return nom"
   ]
  },
  {
   "cell_type": "code",
   "execution_count": 4,
   "metadata": {},
   "outputs": [
    {
     "name": "stdout",
     "output_type": "stream",
     "text": [
      "pokemon-images/images\\abomasnow.png\n",
      "pokemon-images/images\\abra.png\n",
      "pokemon-images/images\\absol.png\n",
      "pokemon-images/images\\accelgor.png\n",
      "[['pokemon-images/images\\\\abomasnow.png', '184.95176010430248', '190.3976531942634', '193.8526727509778', '198.96870925684485', '101.35049921177091', '142.79611140304795', '136.48660010509712', '249.82764056752495', '248.93823623049985', '251.4008277618593', '252.47787328876154', '255.0', '5423', 'Grass', 'Ice'], ['pokemon-images/images\\\\abra.png', '241.4', '233.78823529411764', '60.0', '254.6', '204.6315789473684', '202.8421052631579', '207.8421052631579', '66.21052631578948', '154.03125', '133.84374999999997', '60.4375', '248.625', '1285', 'Psychic'], ['pokemon-images/images\\\\absol.png', '205.10362694300517', '206.90673575129534', '211.9740932642487', '208.96891191709844', '24.59090909090909', '68.6590909090909', '112.54545454545455', '165.27272727272728', '210.2', '188.975', '97.625', '21.45', '14400', 'Dark']]\n"
     ]
    }
   ],
   "source": [
    "for i in range(len(liste_data)):\n",
    "    if i > 3:\n",
    "        break\n",
    "    print(liste_data[i][0])\n",
    "    nom = trouver_nom(liste_data[i][0])\n",
    "    j = 0\n",
    "    while nom != liste_pokemon[j][0]:\n",
    "        j+=1\n",
    "    for k in range(1,len(liste_pokemon[j])):\n",
    "        liste_data[i].append(liste_pokemon[j][k])\n",
    "print(liste_data[:3])"
   ]
  },
  {
   "cell_type": "code",
   "execution_count": 5,
   "metadata": {},
   "outputs": [
    {
     "name": "stdout",
     "output_type": "stream",
     "text": [
      "\n"
     ]
    }
   ],
   "source": [
    "print(trouver_nom('pokemon-images/images\\abomasnow.png'))"
   ]
  },
  {
   "cell_type": "code",
   "execution_count": null,
   "metadata": {},
   "outputs": [],
   "source": []
  }
 ],
 "metadata": {
  "kernelspec": {
   "display_name": "Python 3",
   "language": "python",
   "name": "python3"
  },
  "language_info": {
   "codemirror_mode": {
    "name": "ipython",
    "version": 3
   },
   "file_extension": ".py",
   "mimetype": "text/x-python",
   "name": "python",
   "nbconvert_exporter": "python",
   "pygments_lexer": "ipython3",
   "version": "3.7.3"
  }
 },
 "nbformat": 4,
 "nbformat_minor": 2
}
